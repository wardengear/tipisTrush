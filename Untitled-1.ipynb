{
 "cells": [
  {
   "cell_type": "code",
   "execution_count": 31,
   "metadata": {},
   "outputs": [
    {
     "name": "stdout",
     "output_type": "stream",
     "text": [
      "Размер вектора состояния ОУ:  (8,)\n",
      "Структура управляющего воздействия Box(-1.0, 1.0, (2,), float32)\n",
      "Moviepy - Building video random_luna_lander.mp4.\n",
      "Moviepy - Writing video random_luna_lander.mp4\n",
      "\n"
     ]
    },
    {
     "name": "stderr",
     "output_type": "stream",
     "text": [
      "                                                               \r"
     ]
    },
    {
     "name": "stdout",
     "output_type": "stream",
     "text": [
      "Moviepy - Done !\n",
      "Moviepy - video ready random_luna_lander.mp4\n"
     ]
    }
   ],
   "source": [
    "import gymnasium as gym\n",
    "from gymnasium.wrappers.monitoring.video_recorder import VideoRecorder\n",
    "import numpy as np\n",
    "\n",
    "def pid(state, params):\n",
    "    \"\"\"\n",
    "    расчет управляющего воздействия на основе ПД-регуляторования\n",
    "    :param state: состояния ОУ\n",
    "    :param params: параметры ПД-регуляторов\n",
    "    :return: управляющее воздействие\n",
    "    \"\"\"\n",
    "\n",
    "    # Коэффициенты ПД-регулятора\n",
    "    kp_alt = params[0]  # пропорциональная состовляющая по x\n",
    "    kd_alt = params[1]  # дифференцирующая состовляющая по x\n",
    "    kp_ang = params[2]  # пропорциональная состовляющая по углу\n",
    "    kd_ang = params[3]  # дифференцирующая состовляющая по углу\n",
    "\n",
    "    # расчет целевой переменной\n",
    "    alt_tgt = np.abs(state[0])\n",
    "    ang_tgt = (.25 * np.pi) * (state[0] + state[2])\n",
    "\n",
    "    # расчет ошибки\n",
    "    alt_error = (alt_tgt - state[1])\n",
    "    ang_error = (ang_tgt - state[4])\n",
    "\n",
    "    # Формируем управляющее воздействие ПД-регулятора\n",
    "    alt_adj = kp_alt * alt_error + kd_alt * state[3]\n",
    "    ang_adj = kp_ang * ang_error + kd_ang * state[5]\n",
    "\n",
    "    # Приводим к интервалу (-1,  1)\n",
    "    a = np.array([alt_adj, ang_adj])\n",
    "    a = np.clip(a, -1, +1)\n",
    "\n",
    "    # Если есть точка соприкосновения с землей, то глушим двигатели, никакие действия не пердаем\n",
    "    if state[6] or state[7]:\n",
    "        a[:] = 0\n",
    "    return a\n",
    "\n",
    "\n",
    "def start_game(environment, params, video_recorder=False):\n",
    "    \"\"\"\n",
    "    Симуляция\n",
    "    :param environment: среда Gym\n",
    "    :param params: параметры ПД-регулятора\n",
    "    :param video_recorder: объект для записи видео. False - без записи видео\n",
    "    :return: суммарное качество посадки\n",
    "    \"\"\"\n",
    "    state, _ = environment.reset()\n",
    "    done = False\n",
    "    total = 0\n",
    "    while not done:\n",
    "        environment.render()\n",
    "        if video_recorder:\n",
    "            video_recorder.capture_frame()\n",
    "\n",
    "        # случайное действие\n",
    "        # action = env.action_space.sample()\n",
    "\n",
    "        # ПД-регулятор\n",
    "        action = pid(state, params)\n",
    "        state, reward, done, info, _ = environment.step(action)\n",
    "        total += reward\n",
    "\n",
    "        # print(state)  # ‘x’: 10 ‘y’: 6.666 ‘vx’: 5\n",
    "        # ‘vy’: 7.5 ‘angle’: 1 ‘angular velocity’: 2.5\n",
    "\n",
    "        # print(reward, done, info, action)\n",
    "    return total\n",
    "\n",
    "\n",
    "def optimize(params, current_score, env, step):\n",
    "    \"\"\"\n",
    "    Подбор парамтеров\n",
    "    :param params: стартовые параметры\n",
    "    :param current_score: текущее качество посадки\n",
    "    :param env: среда gym\n",
    "    :param step: шаг оптимизации\n",
    "    :return: параметры и качество\n",
    "    \"\"\"\n",
    "\n",
    "    # добавить шум (меньше шума при увеличении n_steps)\n",
    "    test_params = params + np.random.normal(0, 2 / step, size=params.shape)\n",
    "\n",
    "    # тестирование параметров\n",
    "    scores = []\n",
    "    for trial in range(5):\n",
    "        score = start_game(env, test_params)\n",
    "        scores.append(score)\n",
    "    avg = np.mean(scores)\n",
    "\n",
    "    # Обновить параметры, если среднее значение награды\n",
    "    # лучше чем с предыдущими параметрами\n",
    "    if avg > current_score:\n",
    "        return test_params, avg\n",
    "    else:\n",
    "        return params, current_score\n",
    "\n",
    "\n",
    "if __name__ == \"__main__\":\n",
    "    env_name = 'LunarLander-v2'\n",
    "\n",
    "    env = gym.make(env_name,\n",
    "                   render_mode=\"rgb_array\",\n",
    "                   continuous=True)\n",
    "\n",
    "    print('Размер вектора состояния ОУ: ', env.observation_space.shape)\n",
    "    print('Структура управляющего воздействия', env.action_space)\n",
    "\n",
    "    optimize_params = False  # True - если хотим подобрать новые параметры\n",
    "    params_pd = np.array([0.84827712, -1.55060286, -1.82178159, 0.8182234])\n",
    "\n",
    "    if optimize_params:\n",
    "        score = start_game(env, params_pd, video_recorder=False)\n",
    "        for steps in range(100):\n",
    "            params_pd, score = optimize(params_pd, score, env, steps+1)\n",
    "            print(\"Step:\", steps, \"Score:\", score, \"Params:\", params_pd)\n",
    "    else:\n",
    "        vid = VideoRecorder(env, path=f\"random_luna_lander.mp4\")\n",
    "        params_pd = np.array([0.84827712, -1.55060286, -1.82178159, 0.8182234])\n",
    "        score = start_game(env, params_pd, video_recorder=vid)\n",
    "\n",
    "        vid.close()\n",
    "\n",
    "    env.close()"
   ]
  },
  {
   "cell_type": "code",
   "execution_count": 32,
   "metadata": {},
   "outputs": [
    {
     "data": {
      "text/html": [
       "<video src=\"random_luna_lander.mp4\" controls  >\n",
       "      Your browser does not support the <code>video</code> element.\n",
       "    </video>"
      ],
      "text/plain": [
       "<IPython.core.display.Video object>"
      ]
     },
     "execution_count": 32,
     "metadata": {},
     "output_type": "execute_result"
    }
   ],
   "source": [
    "from IPython.display import Video\n",
    "Video(\"random_luna_lander.mp4\")"
   ]
  },
  {
   "cell_type": "code",
   "execution_count": 71,
   "metadata": {},
   "outputs": [
    {
     "name": "stdout",
     "output_type": "stream",
     "text": [
      "Размер вектора состояния ОУ:  (8,)\n",
      "Структура управляющего воздействия Box(-1.0, 1.0, (2,), float32)\n",
      "Moviepy - Building video random_luna_lander1.mp4.\n",
      "Moviepy - Writing video random_luna_lander1.mp4\n",
      "\n"
     ]
    },
    {
     "name": "stderr",
     "output_type": "stream",
     "text": [
      "                                                             "
     ]
    },
    {
     "name": "stdout",
     "output_type": "stream",
     "text": [
      "Moviepy - Done !\n",
      "Moviepy - video ready random_luna_lander1.mp4\n"
     ]
    },
    {
     "name": "stderr",
     "output_type": "stream",
     "text": [
      "\r"
     ]
    }
   ],
   "source": [
    "import gymnasium as gym\n",
    "#from gymnasium.wrappers.monitoring.video_recorder import VideoRecorder\n",
    "import numpy as np\n",
    "\n",
    "def p_controller(state, params):\n",
    "    \"\"\"\n",
    "    расчет управляющего воздействия на основе П-регулятора\n",
    "    :param state: состояния ОУ\n",
    "    :param params: параметры П-регулятора\n",
    "    :return: управляющее воздействие\n",
    "    \"\"\"\n",
    "\n",
    "    # Коэффициент П-регулятора\n",
    "    kp_alt = params[0]  # пропорциональная составляющая по x\n",
    "    kp_ang = params[1]  # пропорциональная составляющая по углу\n",
    "\n",
    "    # расчет целевой переменной\n",
    "    alt_tgt = np.abs(state[0])\n",
    "    ang_tgt = (.25 * np.pi) * (state[0] + state[2])\n",
    "\n",
    "    # расчет ошибки\n",
    "    alt_error = (alt_tgt - state[1])\n",
    "    ang_error = (ang_tgt - state[4])\n",
    "\n",
    "    # Формируем управляющее воздействие П-регулятора\n",
    "    alt_adj = kp_alt * alt_error\n",
    "    ang_adj = kp_ang * ang_error\n",
    "\n",
    "    # Приводим к интервалу (-1,  1)\n",
    "    a = np.array([alt_adj, ang_adj])\n",
    "    a = np.clip(a, -1, +1)\n",
    "\n",
    "    # Если есть точка соприкосновения с землей, то глушим двигатели, никакие действия не передаем\n",
    "    if state[6] or state[7]:\n",
    "        a[:] = 0\n",
    "    return a\n",
    "def start_game(environment, params, video_recorder=False):\n",
    "    \"\"\"\n",
    "    Симуляция\n",
    "    :param environment: среда Gym\n",
    "    :param params: параметры П-регулятора\n",
    "    :param video_recorder: объект для записи видео. False - без записи видео\n",
    "    :return: суммарное качество посадки\n",
    "    \"\"\"\n",
    "    state, _ = environment.reset()\n",
    "    done = False\n",
    "    total = 0\n",
    "    while not done:\n",
    "        environment.render()\n",
    "        if video_recorder:\n",
    "            video_recorder.capture_frame()\n",
    "\n",
    "        # П-регулятор\n",
    "        action = p_controller(state, params)\n",
    "        state, reward, done, info, _ = environment.step(action)\n",
    "        total += reward\n",
    "        \n",
    "\n",
    "    return total\n",
    "\n",
    "def optimize(params, current_score, env, step):\n",
    "    \"\"\"\n",
    "    Подбор парамтеров\n",
    "    :param params: стартовые параметры\n",
    "    :param current_score: текущее качество посадки\n",
    "    :param env: среда gym\n",
    "    :param step: шаг оптимизации\n",
    "    :return: параметры и качество\n",
    "    \"\"\"\n",
    "\n",
    "    # добавить шум (меньше шума при увеличении n_steps)\n",
    "    test_params = params + np.random.normal(0, 2 / step, size=params.shape)\n",
    "\n",
    "    # тестирование параметров\n",
    "    scores = []\n",
    "    for trial in range(5):\n",
    "        score = start_game(env, test_params)\n",
    "        scores.append(score)\n",
    "    avg = np.mean(scores)\n",
    "\n",
    "    # Обновить параметры, если среднее значение награды\n",
    "    # лучше чем с предыдущими параметрами\n",
    "    if avg > current_score:\n",
    "        return test_params, avg\n",
    "    else:\n",
    "        return params, current_score\n",
    "\n",
    "\n",
    "if __name__ == \"__main__\":\n",
    "    env_name = 'LunarLander-v2'\n",
    "\n",
    "    env = gym.make(env_name,\n",
    "                   render_mode=\"rgb_array\",\n",
    "                   continuous=True)\n",
    "\n",
    "    print('Размер вектора состояния ОУ: ', env.observation_space.shape)\n",
    "    print('Структура управляющего воздействия', env.action_space)\n",
    "\n",
    "    optimize_params = False  # True - если хотим подобрать новые параметры\n",
    "    params_pd = np.array([0.84827712, 0, 3.82178159, 0])\n",
    "\n",
    "    if optimize_params:\n",
    "        score = start_game(env, params_pd, video_recorder=False)\n",
    "        for steps in range(100):\n",
    "            params_pd, score = optimize(params_pd, score, env, steps+1)\n",
    "            print(\"Step:\", steps, \"Score:\", score, \"Params:\", params_pd)\n",
    "    else:\n",
    "        vid = VideoRecorder(env, path=f\"random_luna_lander1.mp4\")\n",
    "        params_pd = np.array([0.84827712, 0, 3.82178159, 0])\n",
    "        score = start_game(env, params_pd, video_recorder=vid)\n",
    "\n",
    "        vid.close()\n",
    "\n",
    "    env.close()\n"
   ]
  },
  {
   "cell_type": "code",
   "execution_count": 72,
   "metadata": {},
   "outputs": [
    {
     "data": {
      "text/html": [
       "<video src=\"random_luna_lander1.mp4\" controls  >\n",
       "      Your browser does not support the <code>video</code> element.\n",
       "    </video>"
      ],
      "text/plain": [
       "<IPython.core.display.Video object>"
      ]
     },
     "execution_count": 72,
     "metadata": {},
     "output_type": "execute_result"
    }
   ],
   "source": [
    "from IPython.display import Video\n",
    "Video(\"random_luna_lander1.mp4\")"
   ]
  },
  {
   "cell_type": "code",
   "execution_count": 12,
   "metadata": {},
   "outputs": [
    {
     "name": "stdout",
     "output_type": "stream",
     "text": [
      "Размер вектора состояния ОУ:  (8,)\n",
      "Структура управляющего воздействия Box(-1.0, 1.0, (2,), float32)\n"
     ]
    },
    {
     "name": "stderr",
     "output_type": "stream",
     "text": [
      "d:\\Anaconda\\Lib\\site-packages\\gym\\utils\\passive_env_checker.py:233: DeprecationWarning: `np.bool8` is a deprecated alias for `np.bool_`.  (Deprecated NumPy 1.24)\n",
      "  if not isinstance(terminated, (bool, np.bool8)):\n"
     ]
    },
    {
     "name": "stdout",
     "output_type": "stream",
     "text": [
      "Moviepy - Building video random_luna_lander2.mp4.\n",
      "Moviepy - Writing video random_luna_lander2.mp4\n",
      "\n"
     ]
    },
    {
     "name": "stderr",
     "output_type": "stream",
     "text": [
      "                                                             \r"
     ]
    },
    {
     "name": "stdout",
     "output_type": "stream",
     "text": [
      "Moviepy - Done !\n",
      "Moviepy - video ready random_luna_lander2.mp4\n"
     ]
    }
   ],
   "source": [
    "import gym\n",
    "from gym.wrappers.monitoring.video_recorder import VideoRecorder\n",
    "import numpy as np\n",
    "\n",
    "def pi(state, params):\n",
    "    \"\"\"\n",
    "    Расчет управляющего воздействия на основе ПИ-регулятора\n",
    "    :param state: состояния ОУ\n",
    "    :param params: параметры ПИ-регулятора\n",
    "    :return: управляющее воздействие\n",
    "    \"\"\"\n",
    "\n",
    "    # Коэффициенты ПИ-регулятора\n",
    "    kp_alt = params[0]  # пропорциональная составляющая по x\n",
    "    ki_alt = params[1]  # интегральная составляющая по x\n",
    "    kp_ang = params[2]  # пропорциональная составляющая по углу\n",
    "    ki_ang = params[3]  # интегральная составляющая по углу\n",
    "\n",
    "    # Расчет целевой переменной\n",
    "    alt_tgt = np.abs(state[0])\n",
    "    ang_tgt = (0.25 * np.pi) * (state[0] + state[2])\n",
    "\n",
    "    # Расчет ошибки\n",
    "    alt_error = (alt_tgt - state[1])\n",
    "    ang_error = (ang_tgt - state[4])\n",
    "\n",
    "    # Формируем управляющее воздействие ПИ-регулятора\n",
    "    alt_adj = kp_alt * alt_error + ki_alt * np.cumsum(alt_error)\n",
    "    ang_adj = kp_ang * ang_error + ki_ang * np.cumsum(ang_error)\n",
    "    # Приводим к интервалу (-1, 1)\n",
    "    a = np.array([alt_adj, ang_adj])\n",
    "    a = np.clip(a, -1, 1)\n",
    "\n",
    "    # Если есть точка соприкосновения с землей, то глушим двигатели, не передаем никакие действия\n",
    "    if state[6] or state[7]:\n",
    "        a[:] = 0\n",
    "    return a\n",
    "\n",
    "\n",
    "def start_game(environment, params, video_recorder=False):\n",
    "    \"\"\"\n",
    "    Симуляция\n",
    "    :param environment: среда Gym\n",
    "    :param params: параметры ПИ-регулятора\n",
    "    :param video_recorder: объект для записи видео. False - без записи видео\n",
    "    :return: суммарное качество посадки\n",
    "    \"\"\"\n",
    "    state, _  = environment.reset()\n",
    "    done = False\n",
    "    total = 0\n",
    "    while not done:\n",
    "        environment.render()\n",
    "        if video_recorder:\n",
    "            video_recorder.capture_frame()\n",
    "\n",
    "        # ПИ-регулятор\n",
    "        action = pi(state, params)\n",
    "        state, reward, done, info, _ = environment.step(action)\n",
    "        total += reward\n",
    "    \n",
    "    return total\n",
    "\n",
    "def optimize(params, current_score, env, step):\n",
    "    \"\"\"\n",
    "    Подбор парамтеров\n",
    "    :param params: стартовые параметры\n",
    "    :param current_score: текущее качество посадки\n",
    "    :param env: среда gym\n",
    "    :param step: шаг оптимизации\n",
    "    :return: параметры и качество\n",
    "    \"\"\"\n",
    "\n",
    "    # добавить шум (меньше шума при увеличении n_steps)\n",
    "    test_params = params + np.random.normal(0, 2 / step, size=params.shape)\n",
    "\n",
    "    # тестирование параметров\n",
    "    scores = []\n",
    "    for trial in range(5):\n",
    "        score = start_game(env, test_params)\n",
    "        scores.append(score)\n",
    "    avg = np.mean(scores)\n",
    "\n",
    "    # Обновить параметры, если среднее значение награды\n",
    "    # лучше чем с предыдущими параметрами\n",
    "    if avg > current_score:\n",
    "        return test_params, avg\n",
    "    else:\n",
    "        return params, current_score\n",
    "\n",
    "\n",
    "if __name__ == \"__main__\":\n",
    "    env_name = 'LunarLander-v2'\n",
    "\n",
    "    env = gym.make(env_name,\n",
    "                   render_mode=\"rgb_array\",\n",
    "                   continuous=True)\n",
    "    \n",
    "    print('Размер вектора состояния ОУ: ', env.observation_space.shape)\n",
    "    print('Структура управляющего воздействия', env.action_space)\n",
    "\n",
    "    optimize_params = False  # True - если хотим подобрать новые параметры\n",
    "    params_pd = np.array([0.84827712, 1.55060286, 1.82178159, 0.8182234])\n",
    "\n",
    "    if optimize_params:\n",
    "        score = start_game(env, params_pd, video_recorder=False)\n",
    "        for steps in range(100):\n",
    "            params_pd, score = optimize(params_pd, score, env, steps+1)\n",
    "            print(\"Step:\", steps, \"Score:\", score, \"Params:\", params_pd)\n",
    "    else:\n",
    "        vid = VideoRecorder(env, path=f\"random_luna_lander2.mp4\")\n",
    "        params_pd = np.array([0.84827712, 1.55060286, 1.82178159, 0.8182234])\n",
    "        score = start_game(env, params_pd, video_recorder=vid)\n",
    "\n",
    "        vid.close()\n",
    "\n",
    "    env.close()\n"
   ]
  },
  {
   "cell_type": "code",
   "execution_count": 13,
   "metadata": {},
   "outputs": [
    {
     "data": {
      "text/html": [
       "<video src=\"random_luna_lander2.mp4\" controls  >\n",
       "      Your browser does not support the <code>video</code> element.\n",
       "    </video>"
      ],
      "text/plain": [
       "<IPython.core.display.Video object>"
      ]
     },
     "execution_count": 13,
     "metadata": {},
     "output_type": "execute_result"
    }
   ],
   "source": [
    "from IPython.display import Video\n",
    "Video(\"random_luna_lander2.mp4\")"
   ]
  }
 ],
 "metadata": {
  "kernelspec": {
   "display_name": "Python 3",
   "language": "python",
   "name": "python3"
  },
  "language_info": {
   "codemirror_mode": {
    "name": "ipython",
    "version": 3
   },
   "file_extension": ".py",
   "mimetype": "text/x-python",
   "name": "python",
   "nbconvert_exporter": "python",
   "pygments_lexer": "ipython3",
   "version": "3.11.4"
  },
  "orig_nbformat": 4
 },
 "nbformat": 4,
 "nbformat_minor": 2
}
